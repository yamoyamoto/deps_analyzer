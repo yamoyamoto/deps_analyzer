{
 "cells": [
  {
   "cell_type": "code",
   "execution_count": 34,
   "metadata": {
    "collapsed": true
   },
   "outputs": [],
   "source": [
    "import numpy as np\n",
    "import pandas as pd\n",
    "import graph_tool.all as gt\n",
    "import json\n",
    "import math\n",
    "import matplotlib\n",
    "\n",
    "language = \"php\"\n",
    "project_name = \"loel\""
   ]
  },
  {
   "cell_type": "code",
   "execution_count": 6,
   "outputs": [
    {
     "data": {
      "text/plain": "                                                  from  \\\n0                     app/Casts/SmartPlaylistRulesCast   \n1                        app/Casts/UserPreferencesCast   \n2     app/Console/Commands/Admin/ChangePasswordCommand   \n3     app/Console/Commands/Admin/ChangePasswordCommand   \n4    app/Console/Commands/ImportSearchableEntitiesC...   \n..                                                 ...   \n672              tests/Unit/Services/UploadServiceTest   \n673              tests/Unit/Services/UploadServiceTest   \n674              tests/Unit/Services/UploadServiceTest   \n675              tests/Unit/Services/UploadServiceTest   \n676                 tests/Unit/Stubs/ConcreteApiClient   \n\n                                             to  count  \n0             App/Values/SmartPlaylistRuleGroup      1  \n1                    App/Values/UserPreferences      1  \n2    App/Console/Commands/Traits/AskForPassword      1  \n3                               App/Models/User      1  \n4                              App/Models/Album      1  \n..                                          ...    ...  \n672               App/Services/MediaSyncService      1  \n673                  App/Services/UploadService      1  \n674                       Mockery/MockInterface      1  \n675                              Tests/TestCase      1  \n676              App/Services/AbstractApiClient      1  \n\n[677 rows x 3 columns]",
      "text/html": "<div>\n<style scoped>\n    .dataframe tbody tr th:only-of-type {\n        vertical-align: middle;\n    }\n\n    .dataframe tbody tr th {\n        vertical-align: top;\n    }\n\n    .dataframe thead th {\n        text-align: right;\n    }\n</style>\n<table border=\"1\" class=\"dataframe\">\n  <thead>\n    <tr style=\"text-align: right;\">\n      <th></th>\n      <th>from</th>\n      <th>to</th>\n      <th>count</th>\n    </tr>\n  </thead>\n  <tbody>\n    <tr>\n      <th>0</th>\n      <td>app/Casts/SmartPlaylistRulesCast</td>\n      <td>App/Values/SmartPlaylistRuleGroup</td>\n      <td>1</td>\n    </tr>\n    <tr>\n      <th>1</th>\n      <td>app/Casts/UserPreferencesCast</td>\n      <td>App/Values/UserPreferences</td>\n      <td>1</td>\n    </tr>\n    <tr>\n      <th>2</th>\n      <td>app/Console/Commands/Admin/ChangePasswordCommand</td>\n      <td>App/Console/Commands/Traits/AskForPassword</td>\n      <td>1</td>\n    </tr>\n    <tr>\n      <th>3</th>\n      <td>app/Console/Commands/Admin/ChangePasswordCommand</td>\n      <td>App/Models/User</td>\n      <td>1</td>\n    </tr>\n    <tr>\n      <th>4</th>\n      <td>app/Console/Commands/ImportSearchableEntitiesC...</td>\n      <td>App/Models/Album</td>\n      <td>1</td>\n    </tr>\n    <tr>\n      <th>...</th>\n      <td>...</td>\n      <td>...</td>\n      <td>...</td>\n    </tr>\n    <tr>\n      <th>672</th>\n      <td>tests/Unit/Services/UploadServiceTest</td>\n      <td>App/Services/MediaSyncService</td>\n      <td>1</td>\n    </tr>\n    <tr>\n      <th>673</th>\n      <td>tests/Unit/Services/UploadServiceTest</td>\n      <td>App/Services/UploadService</td>\n      <td>1</td>\n    </tr>\n    <tr>\n      <th>674</th>\n      <td>tests/Unit/Services/UploadServiceTest</td>\n      <td>Mockery/MockInterface</td>\n      <td>1</td>\n    </tr>\n    <tr>\n      <th>675</th>\n      <td>tests/Unit/Services/UploadServiceTest</td>\n      <td>Tests/TestCase</td>\n      <td>1</td>\n    </tr>\n    <tr>\n      <th>676</th>\n      <td>tests/Unit/Stubs/ConcreteApiClient</td>\n      <td>App/Services/AbstractApiClient</td>\n      <td>1</td>\n    </tr>\n  </tbody>\n</table>\n<p>677 rows × 3 columns</p>\n</div>"
     },
     "execution_count": 6,
     "metadata": {},
     "output_type": "execute_result"
    }
   ],
   "source": [
    "with open('./../data/'+language+'-'+project_name+'.json') as f:\n",
    "  data = json.load(f)\n",
    "\n",
    "data = pd.DataFrame(data)\n",
    "data"
   ],
   "metadata": {
    "collapsed": false
   }
  },
  {
   "cell_type": "code",
   "execution_count": 42,
   "outputs": [
    {
     "data": {
      "text/plain": "<VertexPropertyMap object with value type 'vector<double>', for Graph 0x1be9e3c40, at 0x1bd7e11e0>"
     },
     "execution_count": 42,
     "metadata": {},
     "output_type": "execute_result"
    }
   ],
   "source": [
    "g = gt.Graph()\n",
    "\n",
    "v_list = {}\n",
    "v_prop_list = []\n",
    "v_prop = g.new_vertex_property(\"string\")\n",
    "for i, row in data.iterrows():\n",
    "  if row['from'] not in v_list:\n",
    "    v_list[row['from']] = g.add_vertex()\n",
    "    v_prop[v_list[row['from']]] = row['from']\n",
    "    v_prop_list.append(row['from'])\n",
    "  if row['to'] not in v_list:\n",
    "    v_list[row['to']] = g.add_vertex()\n",
    "    v_prop[v_list[row['to']]] = row['to']\n",
    "    v_prop_list.append(row['to'])\n",
    "\n",
    "for i, row in data.iterrows():\n",
    "  g.add_edge(v_list[row['from']], v_list[row['to']])\n",
    "\n",
    "p = gt.sfdp_layout(g)\n",
    "deg = g.degree_property_map(\"total\")\n",
    "\n",
    "# ノードの大きさを小さくする\n",
    "deg.a = np.sqrt(deg.a) * 0.5\n",
    "\n",
    "# Stretch the layout somewhat\n",
    "# for v in g.vertices():\n",
    "#     p[v][0] *= 0.00001\n",
    "#     p[v][1] *= 0.00001\n",
    "\n",
    "gt.graph_draw(g, vertex_text=v_prop, vertex_size=deg, output=\"page-rank-result-\"+language+\"-\"+project_name+\".pdf\",vertex_font_size=1, vertex_text_position = 0, pos=p, )"
   ],
   "metadata": {
    "collapsed": false
   }
  },
  {
   "cell_type": "code",
   "execution_count": null,
   "outputs": [],
   "source": [],
   "metadata": {
    "collapsed": false
   }
  }
 ],
 "metadata": {
  "kernelspec": {
   "display_name": "Python 3",
   "language": "python",
   "name": "python3"
  },
  "language_info": {
   "codemirror_mode": {
    "name": "ipython",
    "version": 2
   },
   "file_extension": ".py",
   "mimetype": "text/x-python",
   "name": "python",
   "nbconvert_exporter": "python",
   "pygments_lexer": "ipython2",
   "version": "2.7.6"
  }
 },
 "nbformat": 4,
 "nbformat_minor": 0
}
